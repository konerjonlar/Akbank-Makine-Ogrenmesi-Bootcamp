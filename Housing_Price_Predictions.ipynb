{
  "nbformat": 4,
  "nbformat_minor": 0,
  "metadata": {
    "colab": {
      "provenance": [],
      "toc_visible": true,
      "authorship_tag": "ABX9TyPpQrRdSup3c5PBujghpB8g",
      "include_colab_link": true
    },
    "kernelspec": {
      "name": "python3",
      "display_name": "Python 3"
    },
    "language_info": {
      "name": "python"
    }
  },
  "cells": [
    {
      "cell_type": "markdown",
      "metadata": {
        "id": "view-in-github",
        "colab_type": "text"
      },
      "source": [
        "<a href=\"https://colab.research.google.com/github/konerjonlar/Akbank-Makine-renmesi-Bootcamp/blob/main/Housing_Price_Predictions.ipynb\" target=\"_parent\"><img src=\"https://colab.research.google.com/assets/colab-badge.svg\" alt=\"Open In Colab\"/></a>"
      ]
    },
    {
      "cell_type": "markdown",
      "source": [
        "# Importing Required Libraries"
      ],
      "metadata": {
        "id": "bJpqjq9Ph4_8"
      }
    },
    {
      "cell_type": "code",
      "execution_count": 2,
      "metadata": {
        "id": "s5EC76W9NiOC"
      },
      "outputs": [],
      "source": [
        "# for data analysis\n",
        "import numpy as np\n",
        "import pandas as pd\n",
        "import seaborn as sns\n",
        "import matplotlib.pyplot as plt\n",
        "# for modellling and evaluating performance of the model\n",
        "from sklearn import model_selection\n",
        "from sklearn import metrics\n",
        "from sklearn.ensemble import RandomForestRegressor\n",
        "from sklearn.linear_model import LinearRegression\n",
        "from sklearn.tree import DecisionTreeRegressor\n",
        "from sklearn.neighbors import KNeighborsRegressor\n"
      ]
    },
    {
      "cell_type": "markdown",
      "source": [
        "# Project Definition"
      ],
      "metadata": {
        "id": "qkO2enApiUWD"
      }
    },
    {
      "cell_type": "markdown",
      "source": [
        "For this project, we need to load the Melbourne Housing dataset into our project. The\n",
        "quality and amount of data we collect will determine how good our predictive model\n",
        "can be. For this reason, we need to examine the dataset very carefully. We will\n",
        "estimate the price of a house using the Melbourne Housing dataset, which is a\n",
        "real-life example. Before evaluating any cost, we will start by analyzing the data\n",
        "using preprocessing techniques. We will then build our models and measure their\n",
        "performance to complete the project."
      ],
      "metadata": {
        "id": "80bF83ZCicPb"
      }
    },
    {
      "cell_type": "markdown",
      "source": [
        "# Gathering and Observing Data"
      ],
      "metadata": {
        "id": "PipSlNFtiLMh"
      }
    },
    {
      "cell_type": "code",
      "source": [
        "# Load dataset\n",
        "df = pd.read_csv('Melbourne_housing_FULL.csv')\n",
        "\n",
        "# Observe the 5 columns\n",
        "print(df.iloc[:, :5].head())\n",
        "\n",
        "# Find the shape, number of columns and size of the dataset\n",
        "print(\"\\nShape of the Dataset:\\n\", df.shape,\n",
        "\"\\nNumber of Columns:\\n\", len(df.columns),\n",
        "\"\\nSize of the Dataset:\\n\", df.size)\n",
        "\n",
        "\n",
        "# Display general information about the dataset\n",
        "print(\"\\nColumn Labels:\", df.columns.tolist(),\n",
        "      \"\\nColumn Data Types:\", df.dtypes,\n",
        "      \"\\nMemory Usage:\", df.memory_usage(),\n",
        "      \"\\nRange Index:\", df.index,\n",
        "      \"\\nNumber of cells in each column (non-null values):\", df.count(), sep=\"\\n\")"
      ],
      "metadata": {
        "colab": {
          "base_uri": "https://localhost:8080/"
        },
        "id": "MHw38m6dRP27",
        "outputId": "af27f175-2e6d-4ac0-b138-08fac6ce93bc"
      },
      "execution_count": 31,
      "outputs": [
        {
          "output_type": "stream",
          "name": "stdout",
          "text": [
            "       Suburb             Address  Rooms Type      Price\n",
            "0  Abbotsford       68 Studley St      2    h        NaN\n",
            "1  Abbotsford        85 Turner St      2    h  1480000.0\n",
            "2  Abbotsford     25 Bloomburg St      2    h  1035000.0\n",
            "3  Abbotsford  18/659 Victoria St      3    u        NaN\n",
            "4  Abbotsford        5 Charles St      3    h  1465000.0\n",
            "\n",
            "Shape of the Dataset:\n",
            " (34857, 21) \n",
            "Number of Columns:\n",
            " 21 \n",
            "Size of the Dataset:\n",
            " 731997\n",
            "\n",
            "Column Labels:\n",
            "['Suburb', 'Address', 'Rooms', 'Type', 'Price', 'Method', 'SellerG', 'Date', 'Distance', 'Postcode', 'Bedroom2', 'Bathroom', 'Car', 'Landsize', 'BuildingArea', 'YearBuilt', 'CouncilArea', 'Lattitude', 'Longtitude', 'Regionname', 'Propertycount']\n",
            "\n",
            "Column Data Types:\n",
            "Suburb            object\n",
            "Address           object\n",
            "Rooms              int64\n",
            "Type              object\n",
            "Price            float64\n",
            "Method            object\n",
            "SellerG           object\n",
            "Date              object\n",
            "Distance         float64\n",
            "Postcode         float64\n",
            "Bedroom2         float64\n",
            "Bathroom         float64\n",
            "Car              float64\n",
            "Landsize         float64\n",
            "BuildingArea     float64\n",
            "YearBuilt        float64\n",
            "CouncilArea       object\n",
            "Lattitude        float64\n",
            "Longtitude       float64\n",
            "Regionname        object\n",
            "Propertycount    float64\n",
            "dtype: object\n",
            "\n",
            "Memory Usage:\n",
            "Index               128\n",
            "Suburb           278856\n",
            "Address          278856\n",
            "Rooms            278856\n",
            "Type             278856\n",
            "Price            278856\n",
            "Method           278856\n",
            "SellerG          278856\n",
            "Date             278856\n",
            "Distance         278856\n",
            "Postcode         278856\n",
            "Bedroom2         278856\n",
            "Bathroom         278856\n",
            "Car              278856\n",
            "Landsize         278856\n",
            "BuildingArea     278856\n",
            "YearBuilt        278856\n",
            "CouncilArea      278856\n",
            "Lattitude        278856\n",
            "Longtitude       278856\n",
            "Regionname       278856\n",
            "Propertycount    278856\n",
            "dtype: int64\n",
            "\n",
            "Range Index:\n",
            "RangeIndex(start=0, stop=34857, step=1)\n",
            "\n",
            "Number of cells in each column (non-null values):\n",
            "Suburb           34857\n",
            "Address          34857\n",
            "Rooms            34857\n",
            "Type             34857\n",
            "Price            27247\n",
            "Method           34857\n",
            "SellerG          34857\n",
            "Date             34857\n",
            "Distance         34856\n",
            "Postcode         34856\n",
            "Bedroom2         26640\n",
            "Bathroom         26631\n",
            "Car              26129\n",
            "Landsize         23047\n",
            "BuildingArea     13742\n",
            "YearBuilt        15551\n",
            "CouncilArea      34854\n",
            "Lattitude        26881\n",
            "Longtitude       26881\n",
            "Regionname       34854\n",
            "Propertycount    34854\n",
            "dtype: int64\n"
          ]
        }
      ]
    },
    {
      "cell_type": "markdown",
      "source": [
        "# Exploratory Data Analysis"
      ],
      "metadata": {
        "id": "Q-1Wfx9ol-fB"
      }
    },
    {
      "cell_type": "code",
      "source": [],
      "metadata": {
        "id": "p4ZYtkOml8Cd"
      },
      "execution_count": null,
      "outputs": []
    }
  ]
}