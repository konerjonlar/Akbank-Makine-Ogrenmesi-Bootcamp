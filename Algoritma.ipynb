{
  "nbformat": 4,
  "nbformat_minor": 0,
  "metadata": {
    "colab": {
      "provenance": [],
      "authorship_tag": "ABX9TyMT5lJ6hoVxOPovt25TkMOt",
      "include_colab_link": true
    },
    "kernelspec": {
      "name": "python3",
      "display_name": "Python 3"
    },
    "language_info": {
      "name": "python"
    }
  },
  "cells": [
    {
      "cell_type": "markdown",
      "metadata": {
        "id": "view-in-github",
        "colab_type": "text"
      },
      "source": [
        "<a href=\"https://colab.research.google.com/github/konerjonlar/Akbank-Makine-Ogrenmesi-Bootcamp/blob/main/Algoritma.ipynb\" target=\"_parent\"><img src=\"https://colab.research.google.com/assets/colab-badge.svg\" alt=\"Open In Colab\"/></a>"
      ]
    },
    {
      "cell_type": "markdown",
      "source": [
        "# Algoritma Analizi"
      ],
      "metadata": {
        "id": "Yzx95L9MefDn"
      }
    },
    {
      "cell_type": "markdown",
      "source": [
        "Algoritma analizi, bir algoritmanın performansını\n",
        "değerlendirmek için kullanılan bir tekniktir. Bu, bir algoritmanın ne kadar hızlı çalıştığını (zaman karmaşıklığı) ve ne kadar çok bellek kullandığını (alan karmaşıklığı) belirlemeyi içerir.\n",
        "\n",
        "Bir algoritmanın zaman karmaşıklığı, girdinin boyutuna bağlı olarak algoritmanın ne kadar sürede tamamlanacağını tahmin etmeye çalışır. Örneğin, bir dizi sıralama algoritması için, zaman karmaşıklığı genellikle dizinin boyutuna (n) bağlıdır. Eğer bir algoritma, girdi boyutunun artmasıyla doğru orantılı olarak daha fazla zaman alıyorsa, bu algoritmanın zaman karmaşıklığı O(n) olarak ifade edilir."
      ],
      "metadata": {
        "id": "YqJaNsYkelVv"
      }
    },
    {
      "cell_type": "markdown",
      "source": [
        "## Algoritma Tipleri"
      ],
      "metadata": {
        "id": "C0JpdPpSfHPm"
      }
    },
    {
      "cell_type": "markdown",
      "source": [
        "Algoritma örnekleri"
      ],
      "metadata": {
        "id": "t995e31rgyAu"
      }
    },
    {
      "cell_type": "markdown",
      "source": [
        "###     Sıralama Algoritmaları"
      ],
      "metadata": {
        "id": "NgLCutVofdGe"
      }
    },
    {
      "cell_type": "markdown",
      "source": [
        "Verileri belirli bir sıraya göre düzenlemek için kullanılır. Örnekler arasında kabarcık sıralaması, birleştirme sıralaması, hızlı sıralama vb. bulunur."
      ],
      "metadata": {
        "id": "df5CpebefmRE"
      }
    },
    {
      "cell_type": "markdown",
      "source": [
        "#### Kabarcık Sıralaması (Bubble Sort)"
      ],
      "metadata": {
        "id": "l9G8XrH8ibpc"
      }
    },
    {
      "cell_type": "code",
      "source": [
        "def bubble_sort(arr):\n",
        "    n = len(arr)\n",
        "    for i in range(n-1):\n",
        "        for j in range(0, n-i-1):\n",
        "            if arr[j] > arr[j+1]:\n",
        "                arr[j], arr[j+1] = arr[j+1], arr[j]\n"
      ],
      "metadata": {
        "id": "Z4TimTKNiTyE"
      },
      "execution_count": 1,
      "outputs": []
    },
    {
      "cell_type": "markdown",
      "source": [
        "#### Birleştirme Sıralaması (Merge Sort)"
      ],
      "metadata": {
        "id": "S35u95GLijo6"
      }
    },
    {
      "cell_type": "code",
      "source": [
        "def merge_sort(arr):\n",
        "    if len(arr) > 1:\n",
        "        mid = len(arr) // 2\n",
        "        L = arr[:mid]\n",
        "        R = arr[mid:]\n",
        "\n",
        "        merge_sort(L)\n",
        "        merge_sort(R)\n",
        "\n",
        "        i = j = k = 0\n",
        "\n",
        "        while i < len(L) and j < len(R):\n",
        "            if L[i] < R[j]:\n",
        "                arr[k] = L[i]\n",
        "                i += 1\n",
        "            else:\n",
        "                arr[k] = R[j]\n",
        "                j += 1\n",
        "            k += 1\n",
        "\n",
        "        while i < len(L):\n",
        "            arr[k] = L[i]\n",
        "            i += 1\n",
        "            k += 1\n",
        "\n",
        "        while j < len(R):\n",
        "            arr[k] = R[j]\n",
        "            j += 1\n",
        "            k += 1\n"
      ],
      "metadata": {
        "id": "nwpt1hyRinu9"
      },
      "execution_count": 2,
      "outputs": []
    },
    {
      "cell_type": "markdown",
      "source": [
        "### Arama Algoritmaları"
      ],
      "metadata": {
        "id": "rfA-D1FXgIf8"
      }
    },
    {
      "cell_type": "markdown",
      "source": [
        "#### Lineer Arama"
      ],
      "metadata": {
        "id": "eh8Y2UU5iuTC"
      }
    },
    {
      "cell_type": "code",
      "source": [
        "def linear_search(arr, x):\n",
        "    for i in range(len(arr)):\n",
        "        if arr[i] == x:\n",
        "            return i\n",
        "    return -1\n"
      ],
      "metadata": {
        "id": "jrmnX7Iuivuq"
      },
      "execution_count": 3,
      "outputs": []
    },
    {
      "cell_type": "markdown",
      "source": [
        "#### İkili Arama"
      ],
      "metadata": {
        "id": "nKXnAGTgiz63"
      }
    },
    {
      "cell_type": "code",
      "source": [
        "def binary_search(arr, x):\n",
        "    low = 0\n",
        "    high = len(arr) - 1\n",
        "    while low <= high:\n",
        "        mid = (low + high) // 2\n",
        "        if arr[mid] < x:\n",
        "            low = mid + 1\n",
        "        elif arr[mid] > x:\n",
        "            high = mid - 1\n",
        "        else:\n",
        "            return mid\n",
        "    return -1\n"
      ],
      "metadata": {
        "id": "wqP_8HvQizPt"
      },
      "execution_count": 4,
      "outputs": []
    },
    {
      "cell_type": "markdown",
      "source": [
        "Belirli bir değeri bulmak için kullanılır. Örnekler arasında lineer arama, ikili arama, derinlemesine arama (DFS), genişlik öncelikli arama (BFS) vb. bulunur.\n",
        "\n"
      ],
      "metadata": {
        "id": "FPffx34PgMmw"
      }
    },
    {
      "cell_type": "markdown",
      "source": [
        "### Graf Algoritmaları"
      ],
      "metadata": {
        "id": "UU10oY7UgYoP"
      }
    },
    {
      "cell_type": "markdown",
      "source": [
        "Graf yapısı üzerinde işlem yapmak için kullanılır. Örnekler arasında en kısa yol bulma, en kısa yol bulma, ağaç oluşturma, minimum kesme bulma vb. bulunur."
      ],
      "metadata": {
        "id": "R3scnjv0hoOY"
      }
    },
    {
      "cell_type": "markdown",
      "source": [
        "#### En Kısa Yol Bulma (Dijkstra)"
      ],
      "metadata": {
        "id": "eX67R1toi_Y1"
      }
    },
    {
      "cell_type": "code",
      "source": [
        "import heapq\n",
        "\n",
        "def dijkstra(graph, start):\n",
        "    distances = {node: float('infinity') for node in graph}\n",
        "    distances[start] = 0\n",
        "    queue = [(0, start)]\n",
        "\n",
        "    while queue:\n",
        "        current_distance, current_node = heapq.heappop(queue)\n",
        "\n",
        "        if current_distance > distances[current_node]:\n",
        "            continue\n",
        "\n",
        "        for neighbor, weight in graph[current_node].items():\n",
        "            distance = current_distance + weight\n",
        "\n",
        "            if distance < distances[neighbor]:\n",
        "                distances[neighbor] = distance\n",
        "                heapq.heappush(queue, (distance, neighbor))\n",
        "\n",
        "    return distances\n"
      ],
      "metadata": {
        "id": "Uw-svWUQi-zW"
      },
      "execution_count": 5,
      "outputs": []
    },
    {
      "cell_type": "markdown",
      "source": [
        "### Özyinelemeli Algoritmaları"
      ],
      "metadata": {
        "id": "D8pXusiVgqh8"
      }
    },
    {
      "cell_type": "markdown",
      "source": [
        "Kendi kendini çağıran algoritmalardır. Örnekler arasında faktöriyel hesaplama, Fibonacci dizisi hesaplama vb. bulunur."
      ],
      "metadata": {
        "id": "bTpw7qX7ho3g"
      }
    },
    {
      "cell_type": "markdown",
      "source": [
        "#### Faktöriyel Hesaplama"
      ],
      "metadata": {
        "id": "UtQySF3ajLiM"
      }
    },
    {
      "cell_type": "code",
      "source": [
        "def factorial(n):\n",
        "    if n == 0:\n",
        "        return 1\n",
        "    else:\n",
        "        return n * factorial(n-1)\n"
      ],
      "metadata": {
        "id": "tlOAWEgfjMvW"
      },
      "execution_count": 6,
      "outputs": []
    },
    {
      "cell_type": "markdown",
      "source": [
        "#### Fibonacci Dizisi Hesaplama"
      ],
      "metadata": {
        "id": "c3T_TGVfjTAL"
      }
    },
    {
      "cell_type": "code",
      "source": [
        "def fibonacci(n):\n",
        "    if n <= 1:\n",
        "        return n\n",
        "    else:\n",
        "        return fibonacci(n-1) + fibonacci(n-2)\n"
      ],
      "metadata": {
        "id": "Kkd_wrigjU1R"
      },
      "execution_count": 7,
      "outputs": []
    },
    {
      "cell_type": "markdown",
      "source": [
        "### Dinamik Programlama Algoritmaları"
      ],
      "metadata": {
        "id": "qxgn0nlRgq4A"
      }
    },
    {
      "cell_type": "markdown",
      "source": [
        "Büyük problemleri küçük alt problemlere böler ve her bir alt problem için bir kez çözüm oluşturarak tekrarlamalı hesaplamaları önler. Örnekler arasında çanta problemleri, en uzun artan alt diziler, edit mesafesi hesaplama vb. bulunur."
      ],
      "metadata": {
        "id": "CNzXPc8jhp_J"
      }
    },
    {
      "cell_type": "markdown",
      "source": [
        "#### En Uzun Artan Alt Dizi"
      ],
      "metadata": {
        "id": "8N_9r3lmjqsy"
      }
    },
    {
      "cell_type": "markdown",
      "source": [
        "def longest_increasing_subsequence(nums):\n",
        "    if not nums:\n",
        "        return 0\n",
        "    dp = [1] * len(nums)\n",
        "    for i in range(1, len(nums)):\n",
        "        for j in range(i):\n",
        "            if nums[i] > nums[j]:\n",
        "                dp[i] = max(dp[i], dp[j] + 1)\n",
        "    return max(dp)\n"
      ],
      "metadata": {
        "id": "3tkdWcHwjwQH"
      }
    },
    {
      "cell_type": "markdown",
      "source": [
        "### Greedy (Açgözlü) Algoritmalar"
      ],
      "metadata": {
        "id": "AWumZZrzgq9s"
      }
    },
    {
      "cell_type": "markdown",
      "source": [
        "#### Çanta Problemi"
      ],
      "metadata": {
        "id": "REArrwAQj16n"
      }
    },
    {
      "cell_type": "code",
      "source": [
        "def knapsack(values, weights, capacity):\n",
        "    n = len(values)\n",
        "    ratio = [(values[i] / weights[i], values[i], weights[i]) for i in range(n)]\n",
        "    ratio.sort(reverse=True)\n",
        "    total_value = 0\n",
        "    for r, v, w in ratio:\n",
        "        if capacity >= w:\n",
        "            total_value += v\n",
        "            capacity -= w\n",
        "        else:\n",
        "            total_value += r * capacity\n",
        "            break\n",
        "    return total_value\n"
      ],
      "metadata": {
        "id": "qyJgbjpUj53e"
      },
      "execution_count": 8,
      "outputs": []
    },
    {
      "cell_type": "markdown",
      "source": [
        "Her adımda en iyi seçeneği seçerek ilerler ve global optimal çözüm elde etmeyi amaçlar. Örnekler arasında en küçük maliyetli ağaç oluşturma, çanta problemleri, Kruskal algoritması vb. bulunur."
      ],
      "metadata": {
        "id": "1CEU0bVYhrAN"
      }
    },
    {
      "cell_type": "markdown",
      "source": [
        "### Geri İzleme Algoritmaları\n"
      ],
      "metadata": {
        "id": "64xT1-3HhSYu"
      }
    },
    {
      "cell_type": "markdown",
      "source": [
        "Karar ağacını kullanarak tüm olası çözümleri inceleyen ve hedefe ulaşana kadar geri dönen bir yöntemdir. Örnekler arasında oyun ağaçları, boşluk doldurma, labirent problemleri vb. bulunur.\n"
      ],
      "metadata": {
        "id": "GIaUUREIhrwN"
      }
    },
    {
      "cell_type": "markdown",
      "source": [
        "#### Oyun Ağaçları"
      ],
      "metadata": {
        "id": "SXfcADOsj-wo"
      }
    },
    {
      "cell_type": "code",
      "source": [
        "def minimax(node, depth, maximizingPlayer):\n",
        "    if depth == 0 or node.is_terminal_node():\n",
        "        return node.value\n",
        "    if maximizingPlayer:\n",
        "        value = float('-inf')\n",
        "        for child in node.children:\n",
        "            value = max(value, minimax(child, depth - 1, False))\n",
        "        return value\n",
        "    else:\n",
        "        value = float('inf')\n",
        "        for child in node.children:\n",
        "            value = min(value, minimax(child, depth - 1, True))\n",
        "        return value\n"
      ],
      "metadata": {
        "id": "mYQgY-lPkGM_"
      },
      "execution_count": 9,
      "outputs": []
    },
    {
      "cell_type": "markdown",
      "source": [
        "### Kuvvetle Çalışan Algori Algoritmalar"
      ],
      "metadata": {
        "id": "pD9mTKB4hWT5"
      }
    },
    {
      "cell_type": "markdown",
      "source": [
        "Küçük bir veri kümesi için etkili olan, ancak büyük veri kümeleri için pratik olmayan algoritmalardır. Örnekler arasında tam arama, tüm permütasyonları inceleme, tüm alt kümeleri inceleme vb. bulunur."
      ],
      "metadata": {
        "id": "CC-Q436bhtAm"
      }
    },
    {
      "cell_type": "markdown",
      "source": [
        "#### Tüm Permütasyonları İnceleme"
      ],
      "metadata": {
        "id": "6fazktwskNde"
      }
    },
    {
      "cell_type": "code",
      "source": [
        "import itertools\n",
        "\n",
        "def permutations(arr):\n",
        "    return list(itertools.permutations(arr))"
      ],
      "metadata": {
        "id": "UsarWqPdkO0k"
      },
      "execution_count": 10,
      "outputs": []
    },
    {
      "cell_type": "markdown",
      "source": [
        "#### Tüm Alt Kümeleri İnceleme"
      ],
      "metadata": {
        "id": "2nC3aX9qkWAz"
      }
    },
    {
      "cell_type": "code",
      "source": [
        "def subsets(arr):\n",
        "    result = [[]]\n",
        "    for num in arr:\n",
        "        result += [curr + [num] for curr in result]\n",
        "    return result\n"
      ],
      "metadata": {
        "id": "ofGtDcgqkXhp"
      },
      "execution_count": 11,
      "outputs": []
    },
    {
      "cell_type": "markdown",
      "source": [
        "# Zaman Karmaşıklığı"
      ],
      "metadata": {
        "id": "uGcLwpzMesrf"
      }
    },
    {
      "cell_type": "markdown",
      "source": [
        "Zaman karmaşıklığı, bir algoritmanın çalışma süresini ifade eder. Bir algoritmanın zaman karmaşıklığı, genellikle “O” notasyonu kullanılarak ifade edilir. Bu notasyon, en kötü durumda algoritmanın ne kadar sürede tamamlanacağını gösterir.\n",
        "\n",
        "Örneğin, bir algoritmanın zaman karmaşıklığı O(n) ise, bu algoritmanın çalışma süresi girdi boyutuyla doğru orantılıdır. Eğer bir algoritmanın zaman karmaşıklığı O(n^2) ise, bu algoritmanın çalışma süresi girdi boyutunun karesiyle orantılıdır."
      ],
      "metadata": {
        "id": "HjeVEVTReytP"
      }
    },
    {
      "cell_type": "markdown",
      "source": [
        "# Öğrenme ve Pratik Yapma"
      ],
      "metadata": {
        "id": "BESPdaHue3K2"
      }
    },
    {
      "cell_type": "markdown",
      "source": [
        "Algoritma analizi ve zaman karmaşıklığı gibi konular, ilk başta karmaşık görünebilir. Ancak, bu konuları anlamak ve uygulamak için pratik yapmak önemlidir. Kod yazma pratiği, bu konuların daha iyi anlaşılmasını sağlar."
      ],
      "metadata": {
        "id": "CJqmPgJxe7RH"
      }
    }
  ]
}